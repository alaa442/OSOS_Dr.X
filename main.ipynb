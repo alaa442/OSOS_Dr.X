{
 "cells": [
  {
   "cell_type": "code",
   "execution_count": null,
   "id": "5bb6d96c-f8fa-4ca8-ad54-6927dd12161b",
   "metadata": {},
   "outputs": [],
   "source": [
    "import os\n",
    "from file_reading import extract_text\n",
    "from text_chunking import chunk_file_text\n",
    "\n",
    "folder_path = \"data/publications\"\n",
    "all_chunks = []\n",
    "\n",
    "for filename in os.listdir(folder_path):\n",
    "    file_path = os.path.join(folder_path, filename)\n",
    "\n",
    "    if os.path.isfile(file_path):\n",
    "        try:\n",
    "            #Module 1: reading files\n",
    "            print(f\"📄 Processing: {filename}\")\n",
    "            text = extract_text(file_path)\n",
    "\n",
    "            #Module 2: Cuncking\n",
    "            chunks = chunk_file_text(text, filename)\n",
    "            all_chunks.extend(chunks)\n",
    "            print (len(all_chunks))\n",
    "            \n",
    "        except Exception as e:\n",
    "            print(f\" Error processing {filename}: {e}\")\n"
   ]
  },
  {
   "cell_type": "code",
   "execution_count": null,
   "id": "54c4d357-e656-49a8-84a0-060407b0b14a",
   "metadata": {},
   "outputs": [],
   "source": [
    "from embedding import build_faiss_index\n",
    "import faiss\n",
    "\n",
    "#Module 3: Build FAISS vector database - one time run\n",
    "build_faiss_index(all_chunks, save_path=\"faiss_db\")"
   ]
  },
  {
   "cell_type": "code",
   "execution_count": null,
   "id": "532e4039-df72-43ee-89a6-5511d5453b53",
   "metadata": {},
   "outputs": [],
   "source": [
    "from rag import answer_query\n",
    "import pickle\n",
    "\n",
    "# Module 4: RAG - Ask a question\n",
    "index_path = \"faiss_db/faiss_index.index\"  # Path to FAISS index\n",
    "metadata_path = \"faiss_db/metadata.pkl\"  # Path to metadata\n",
    "query = \"What is the impact of AI on healthcare?\"  # Example query\n",
    "\n",
    "llama_model_path = \"models/llama.gguf\"  # Path to Llama model (downloaded locally)\n",
    "\n",
    "# Call the function to get the answer\n",
    "answer = answer_query(index_path, metadata_path, query, llama_model_path=llama_model_path)\n",
    "print(\"Answer:\", answer)\n"
   ]
  },
  {
   "cell_type": "code",
   "execution_count": null,
   "id": "c049cde0-ba83-4b18-a6bb-d92b7e6e57f5",
   "metadata": {},
   "outputs": [],
   "source": []
  }
 ],
 "metadata": {
  "kernelspec": {
   "display_name": "Python 3 (ipykernel)",
   "language": "python",
   "name": "python3"
  },
  "language_info": {
   "codemirror_mode": {
    "name": "ipython",
    "version": 3
   },
   "file_extension": ".py",
   "mimetype": "text/x-python",
   "name": "python",
   "nbconvert_exporter": "python",
   "pygments_lexer": "ipython3",
   "version": "3.13.2"
  }
 },
 "nbformat": 4,
 "nbformat_minor": 5
}
