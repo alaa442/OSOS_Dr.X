{
 "cells": [
  {
   "cell_type": "code",
   "execution_count": 1,
   "id": "f6e0d69a-8816-4bd0-95bb-de4ba994c00d",
   "metadata": {},
   "outputs": [],
   "source": [
    "import os\n",
    "from translation import translate_file\n",
    "\n",
    "def save_translated_file(file_path, target_language):\n",
    "    # Translate the file\n",
    "    translated = translate_file(file_path, target_language)\n",
    "    \n",
    "    # Get the file extension and base name\n",
    "    file_name = os.path.basename(file_path)\n",
    "    file_name_without_extension, file_extension = os.path.splitext(file_name)\n",
    "    \n",
    "    # Add \"translated_\" prefix to the filename\n",
    "    translated_file_name = f\"translated_{file_name}\"\n",
    "    \n",
    "    # Get the directory of the original file\n",
    "    file_dir = os.path.dirname(file_path)\n",
    "    \n",
    "    # Create the full output path\n",
    "    output_path = os.path.join(file_dir, translated_file_name)\n",
    "    \n",
    "    # Save the translated content\n",
    "    if file_extension == '.docx':\n",
    "        from docx import Document\n",
    "        doc = Document()\n",
    "        doc.add_paragraph(translated)\n",
    "        doc.save(output_path)\n",
    "        \n",
    "    elif file_extension == '.pdf':\n",
    "        from fpdf import FPDF\n",
    "        pdf = FPDF()\n",
    "        pdf.add_page()\n",
    "        pdf.set_font(\"Arial\", size=12)\n",
    "        for line in translated.split('\\n'):\n",
    "            pdf.cell(200, 10, txt=line, ln=True)\n",
    "        pdf.output(output_path)\n",
    "    \n",
    "    print(f\"Translated file saved as: {output_path}\")\n",
    "    return output_path\n"
   ]
  },
  {
   "cell_type": "code",
   "execution_count": 2,
   "id": "06283e46-658f-45d0-89de-33dc30fdc9a1",
   "metadata": {},
   "outputs": [
    {
     "name": "stdout",
     "output_type": "stream",
     "text": [
      "Translating data/publications/Stats.docx to ar...\n"
     ]
    },
    {
     "data": {
      "application/vnd.jupyter.widget-view+json": {
       "model_id": "ba60deecb70a49e694471a676bfaf48b",
       "version_major": 2,
       "version_minor": 0
      },
      "text/plain": [
       "tokenizer_config.json:   0%|          | 0.00/44.0 [00:00<?, ?B/s]"
      ]
     },
     "metadata": {},
     "output_type": "display_data"
    },
    {
     "data": {
      "application/vnd.jupyter.widget-view+json": {
       "model_id": "b97c7045e48947ea95ba41a5250a2eaf",
       "version_major": 2,
       "version_minor": 0
      },
      "text/plain": [
       "source.spm:   0%|          | 0.00/801k [00:00<?, ?B/s]"
      ]
     },
     "metadata": {},
     "output_type": "display_data"
    },
    {
     "data": {
      "application/vnd.jupyter.widget-view+json": {
       "model_id": "ccbe5525e9544bfcabb96fd463d54e48",
       "version_major": 2,
       "version_minor": 0
      },
      "text/plain": [
       "target.spm:   0%|          | 0.00/917k [00:00<?, ?B/s]"
      ]
     },
     "metadata": {},
     "output_type": "display_data"
    },
    {
     "data": {
      "application/vnd.jupyter.widget-view+json": {
       "model_id": "2f70b0b6f35d4784822de086cb04b529",
       "version_major": 2,
       "version_minor": 0
      },
      "text/plain": [
       "vocab.json:   0%|          | 0.00/2.12M [00:00<?, ?B/s]"
      ]
     },
     "metadata": {},
     "output_type": "display_data"
    },
    {
     "data": {
      "application/vnd.jupyter.widget-view+json": {
       "model_id": "e1d6a70787d64717ac873d652cafa281",
       "version_major": 2,
       "version_minor": 0
      },
      "text/plain": [
       "config.json:   0%|          | 0.00/1.39k [00:00<?, ?B/s]"
      ]
     },
     "metadata": {},
     "output_type": "display_data"
    },
    {
     "data": {
      "application/vnd.jupyter.widget-view+json": {
       "model_id": "e45c5f832f134e98a72db25f245447bd",
       "version_major": 2,
       "version_minor": 0
      },
      "text/plain": [
       "pytorch_model.bin:   0%|          | 0.00/308M [00:00<?, ?B/s]"
      ]
     },
     "metadata": {},
     "output_type": "display_data"
    },
    {
     "data": {
      "application/vnd.jupyter.widget-view+json": {
       "model_id": "bfc16a8bc55b482db7637a9727a14fd9",
       "version_major": 2,
       "version_minor": 0
      },
      "text/plain": [
       "generation_config.json:   0%|          | 0.00/293 [00:00<?, ?B/s]"
      ]
     },
     "metadata": {},
     "output_type": "display_data"
    },
    {
     "data": {
      "application/vnd.jupyter.widget-view+json": {
       "model_id": "6481a6b95eb04b358866bdb0ec4884e9",
       "version_major": 2,
       "version_minor": 0
      },
      "text/plain": [
       "model.safetensors:   0%|          | 0.00/308M [00:00<?, ?B/s]"
      ]
     },
     "metadata": {},
     "output_type": "display_data"
    },
    {
     "name": "stdout",
     "output_type": "stream",
     "text": [
      "Translated file saved as: data/publications\\translated_Stats.docx\n"
     ]
    },
    {
     "data": {
      "text/plain": [
       "'data/publications\\\\translated_Stats.docx'"
      ]
     },
     "execution_count": 2,
     "metadata": {},
     "output_type": "execute_result"
    }
   ],
   "source": [
    "# Example usage\n",
    "file_path = \"data/publications/Stats.docx\"\n",
    "target_language = \"ar\"  # \"en\" or \"ar\"\n",
    "\n",
    "save_translated_file(file_path, target_language)"
   ]
  }
 ],
 "metadata": {
  "kernelspec": {
   "display_name": "Python 3 (ipykernel)",
   "language": "python",
   "name": "python3"
  },
  "language_info": {
   "codemirror_mode": {
    "name": "ipython",
    "version": 3
   },
   "file_extension": ".py",
   "mimetype": "text/x-python",
   "name": "python",
   "nbconvert_exporter": "python",
   "pygments_lexer": "ipython3",
   "version": "3.13.2"
  }
 },
 "nbformat": 4,
 "nbformat_minor": 5
}
