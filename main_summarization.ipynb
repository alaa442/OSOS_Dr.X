{
 "cells": [
  {
   "cell_type": "code",
   "execution_count": null,
   "id": "0408c4da-54bc-4771-a350-ec2116f95ead",
   "metadata": {},
   "outputs": [],
   "source": [
    "from summarization import summarize_text, save_summary, load_text, evaluate_summary\n",
    "\n",
    "# Load the file to be summarized\n",
    "input_file = \"data/publications/Stats.docx\"\n",
    "text = load_text(input_file)\n",
    "\n",
    "# Summarize the text\n",
    "summary = summarize_text(text)\n",
    "\n",
    "# Save the summarized text to a new file\n",
    "saved_file_path = save_summary(summary, input_file)\n",
    "print(f\"Summary saved to: {saved_file_path}\")\n",
    "\n",
    "reference_summary_file = \"summaries/Stats_summary.txt\"\n",
    "\n",
    "# Step 4: Read the reference summary\n",
    "with open(reference_summary_file, 'r', encoding='utf-8') as f:\n",
    "    reference_summary = f.read()\n",
    "\n",
    "# Step 5: Evaluate the summary using ROUGE\n",
    "evaluate_summary(reference_summary, summary)"
   ]
  },
  {
   "cell_type": "code",
   "execution_count": null,
   "id": "75fba0d7-2192-4862-9a5c-4ddad03c702e",
   "metadata": {},
   "outputs": [],
   "source": []
  }
 ],
 "metadata": {
  "kernelspec": {
   "display_name": "Python 3 (ipykernel)",
   "language": "python",
   "name": "python3"
  },
  "language_info": {
   "codemirror_mode": {
    "name": "ipython",
    "version": 3
   },
   "file_extension": ".py",
   "mimetype": "text/x-python",
   "name": "python",
   "nbconvert_exporter": "python",
   "pygments_lexer": "ipython3",
   "version": "3.13.2"
  }
 },
 "nbformat": 4,
 "nbformat_minor": 5
}
